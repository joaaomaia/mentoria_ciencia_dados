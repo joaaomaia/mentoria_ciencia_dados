{
 "cells": [
  {
   "cell_type": "markdown",
   "id": "08fefeb2",
   "metadata": {},
   "source": [
    "## Iris Dataset - Exercício Introdutório de Ciência de Dados"
   ]
  },
  {
   "cell_type": "markdown",
   "id": "7f05a820",
   "metadata": {},
   "source": [
    "### 0. Importação de Bibliotecas (libs ou packages)"
   ]
  },
  {
   "cell_type": "code",
   "execution_count": null,
   "id": "f9c611e2",
   "metadata": {},
   "outputs": [],
   "source": [
    "# Manipulação de dados em formato tabular (DataFrames): Permite ler, limpar, filtrar e transformar dados de forma eficiente.\n",
    "import pandas as pd"
   ]
  },
  {
   "cell_type": "code",
   "execution_count": 1,
   "id": "df15bad8",
   "metadata": {},
   "outputs": [],
   "source": [
    "# Visualizações estatísticas com estilo elegante: Facilita gráficos como boxplot, scatterplot e heatmaps, com suporte nativo a DataFrames do pandas.\n",
    "import seaborn as sns"
   ]
  },
  {
   "cell_type": "code",
   "execution_count": null,
   "id": "b6f1d042",
   "metadata": {},
   "outputs": [],
   "source": [
    "# Criação de gráficos personalizados: Usado em conjunto com seaborn para controlar detalhes dos gráficos, como tamanho e títulos.\n",
    "import matplotlib.pyplot as plt"
   ]
  },
  {
   "cell_type": "code",
   "execution_count": 2,
   "id": "a06a6f13",
   "metadata": {},
   "outputs": [],
   "source": [
    "#Operações numéricas e vetoriais: Oferece funções para arrays, operações matemáticas e criação de novas colunas (como no uso de np.where).\n",
    "import numpy as np"
   ]
  },
  {
   "cell_type": "code",
   "execution_count": null,
   "id": "8efa209d",
   "metadata": {},
   "outputs": [],
   "source": [
    "# Carrega datasets prontos da scikit-learn: Aqui, traz o famoso Iris Dataset, já dividido em data e target.\n",
    "from sklearn.datasets import load_iris"
   ]
  },
  {
   "cell_type": "code",
   "execution_count": null,
   "id": "e0fe713d",
   "metadata": {},
   "outputs": [],
   "source": [
    "# Divide os dados em treino e teste: Muito usado para separar uma parte dos dados para avaliar o desempenho do modelo.\n",
    "from sklearn.model_selection import train_test_split"
   ]
  },
  {
   "cell_type": "code",
   "execution_count": null,
   "id": "fbd58edc",
   "metadata": {},
   "outputs": [],
   "source": [
    "# Modelo de regressão logística (classificação): Classificador simples e eficiente para problemas com múltiplas classes (como prever a espécie da flor).\n",
    "from sklearn.linear_model import LogisticRegression"
   ]
  },
  {
   "cell_type": "code",
   "execution_count": null,
   "id": "05a39025",
   "metadata": {},
   "outputs": [],
   "source": [
    "# Padroniza as variáveis numéricas: Transforma os dados para terem média 0 e desvio padrão 1, o que melhora o desempenho de muitos modelos.\n",
    "from sklearn.preprocessing import StandardScaler"
   ]
  },
  {
   "cell_type": "markdown",
   "id": "aef613cb",
   "metadata": {},
   "source": [
    "### 1. Carregamento do dataset"
   ]
  },
  {
   "cell_type": "code",
   "execution_count": null,
   "id": "510ab586",
   "metadata": {},
   "outputs": [],
   "source": [
    "iris_data = load_iris()\n",
    "df = pd.DataFrame(data=iris_data.data, columns=iris_data.feature_names)\n",
    "df['species'] = pd.Categorical.from_codes(iris_data.target, iris_data.target_names)\n",
    "\n",
    "# 2. Inspeção Inicial\n",
    "print(\"Shape:\", df.shape)\n",
    "print(\"\\nTipos de dados:\\n\", df.dtypes)\n",
    "print(\"\\nPrimeiras linhas:\\n\", df.head())\n"
   ]
  },
  {
   "cell_type": "markdown",
   "id": "41aa3f57",
   "metadata": {},
   "source": [
    "### 3. Estatísticas descritivas"
   ]
  },
  {
   "cell_type": "code",
   "execution_count": null,
   "id": "e163ceec",
   "metadata": {},
   "outputs": [],
   "source": [
    "print(\"\\nEstatísticas gerais:\\n\", df.describe())\n",
    "print(\"\\nMédia por espécie:\\n\", df.groupby('species').mean())\n",
    "\n"
   ]
  },
  {
   "cell_type": "markdown",
   "id": "91ba6a7c",
   "metadata": {},
   "source": [
    "### 4. Visualizações"
   ]
  },
  {
   "cell_type": "code",
   "execution_count": null,
   "id": "44ffe0df",
   "metadata": {},
   "outputs": [],
   "source": [
    "sns.set(style=\"whitegrid\")\n",
    "\n",
    "# Boxplot\n",
    "plt.figure(figsize=(8, 5))\n",
    "sns.boxplot(x=\"species\", y=\"petal length (cm)\", data=df)\n",
    "plt.title(\"Distribuição do Comprimento da Pétala por Espécie\")\n",
    "plt.show()"
   ]
  },
  {
   "cell_type": "code",
   "execution_count": null,
   "id": "936d22dd",
   "metadata": {},
   "outputs": [],
   "source": [
    "# Scatter plot\n",
    "plt.figure(figsize=(8, 5))\n",
    "sns.scatterplot(\n",
    "    data=df,\n",
    "    x=\"petal length (cm)\",\n",
    "    y=\"petal width (cm)\",\n",
    "    hue=\"species\",\n",
    "    palette=\"deep\"\n",
    ")\n",
    "plt.title(\"Dispersão: Petal Length vs Petal Width\")\n",
    "plt.show()"
   ]
  },
  {
   "cell_type": "code",
   "execution_count": null,
   "id": "e08abab8",
   "metadata": {},
   "outputs": [],
   "source": [
    "# Heatmap de correlação\n",
    "plt.figure(figsize=(6, 4))\n",
    "sns.heatmap(df.drop(columns='species').corr(), annot=True, cmap=\"Blues\")\n",
    "plt.title(\"Matriz de Correlação\")\n",
    "plt.show()"
   ]
  },
  {
   "cell_type": "code",
   "execution_count": null,
   "id": "b628e710",
   "metadata": {},
   "outputs": [],
   "source": [
    "# 5. Criação de nova coluna categórica\n",
    "petal_threshold = df[\"petal length (cm)\"].median()\n",
    "df[\"petal_size\"] = np.where(df[\"petal length (cm)\"] > petal_threshold, \"grande\", \"pequena\")\n",
    "print(\"\\nDistribuição de petal_size:\\n\", df[\"petal_size\"].value_counts())"
   ]
  },
  {
   "cell_type": "code",
   "execution_count": null,
   "id": "559f3f2f",
   "metadata": {},
   "outputs": [],
   "source": [
    "# 6. Modelo simples (Logistic Regression)\n",
    "features = [\"petal length (cm)\", \"petal width (cm)\"]\n",
    "X = df[features]\n",
    "y = df[\"species\"]\n",
    "\n",
    "scaler = StandardScaler()\n",
    "X_scaled = scaler.fit_transform(X)\n",
    "\n",
    "X_train, X_test, y_train, y_test = train_test_split(X_scaled, y, test_size=0.2, random_state=42)\n",
    "\n",
    "model = LogisticRegression(max_iter=200)\n",
    "model.fit(X_train, y_train)\n",
    "acc = model.score(X_test, y_test)\n",
    "print(f\"\\nAcurácia do modelo com 2 features: {acc:.2%}\")"
   ]
  }
 ],
 "metadata": {
  "kernelspec": {
   "display_name": "ENV_STONE",
   "language": "python",
   "name": "python3"
  },
  "language_info": {
   "codemirror_mode": {
    "name": "ipython",
    "version": 3
   },
   "file_extension": ".py",
   "mimetype": "text/x-python",
   "name": "python",
   "nbconvert_exporter": "python",
   "pygments_lexer": "ipython3",
   "version": "3.10.16"
  }
 },
 "nbformat": 4,
 "nbformat_minor": 5
}
